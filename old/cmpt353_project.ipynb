{
  "nbformat": 4,
  "nbformat_minor": 0,
  "metadata": {
    "colab": {
      "provenance": [],
      "collapsed_sections": [
        "pCBUWLQ-bw30"
      ]
    },
    "kernelspec": {
      "name": "python3",
      "display_name": "Python 3"
    },
    "language_info": {
      "name": "python"
    }
  },
  "cells": [
    {
      "cell_type": "markdown",
      "source": [
        "## GOAL:\n",
        "Sightseeing Path Problem (city walk):\n",
        "  - input(start_time, start_location, duration)\n",
        "    - start_time and start_loaction will be input as a picture and translate to a location a time\n",
        "  - generate the best sightseeing route based on the amenities and tourist locations nearby\n",
        "  - Use OSRM to generate paths and duration between sightseeing location"
      ],
      "metadata": {
        "id": "vEmHQ0ZhbVx0"
      }
    },
    {
      "cell_type": "markdown",
      "source": [
        "## TODO\n",
        "\n",
        "Decide tourist attractions\n",
        "- Go through the ameneties and label/categorize tourist atrractions, and maybe other ameneties (like resterants etc)\n",
        "- Add labels like museum, park, landmarks, architecture, entertainment, shopping,\n",
        "- Remove unneeded locations (that aren't tourist attractions, or resteraunts)\n",
        "- Create dataset with only foodplaces: resteraunt/cafe/pub/etc\n",
        "- Remove NaNs and other invalid locations\n",
        "\n",
        "Decide weighting\n",
        "- Which amenity categories are more interesting or important?\n",
        "- tourism tag, historic tag, wiki article or not?\n",
        "- Weight heuristic\n",
        "\n",
        "\n",
        "Create route\n",
        "1. weight(score) each interest points (landmarks) to each amenity\n",
        "2. Choose some endpoints(interest points) that are close to the start point\n",
        "perhaps using some TSP algorithm for optimization and look for certain landmarks above a weight threshold (so no random benches)\n",
        "3. Use that endpoint as the new start point and look for the next\n",
        "4. decide on which path has the highest weight\n",
        "\n",
        "starting point -> first neartest interest point -> second nearest interest point\n",
        "\n",
        "Extra stuff\n",
        "- Modifying weights for categories\n",
        "- Optimizing route to prevent backtracking\n",
        "- input preference for certain locations or amenity types\n",
        "- suggest resteraunts by time like 9am 1pm, 8pm,"
      ],
      "metadata": {
        "id": "9mRuPxHKHs6c"
      }
    },
    {
      "cell_type": "markdown",
      "source": [
        "## Start\n",
        "Run me every time!\n",
        "\n",
        "Import Libraries\n",
        "\n",
        "Downloading and parsing data into a dataframe.\n",
        "  "
      ],
      "metadata": {
        "id": "pCBUWLQ-bw30"
      }
    },
    {
      "cell_type": "code",
      "execution_count": null,
      "metadata": {
        "id": "YJlWgEA309QA"
      },
      "outputs": [],
      "source": [
        "import requests\n",
        "import numpy as np\n",
        "import pandas as pd\n",
        "import json\n",
        "import random\n",
        "import math\n",
        "from matplotlib import pyplot as plt"
      ]
    },
    {
      "cell_type": "code",
      "source": [
        "!wget -O amenities-vancouver.json.gz https://raw.githubusercontent.com/b0bhat/colab-data/main/amenities-vancouver.json.gz"
      ],
      "metadata": {
        "colab": {
          "base_uri": "https://localhost:8080/"
        },
        "id": "QBnK4eKHQo4M",
        "outputId": "355c9f1c-46fb-4b6f-f0c1-4214e4c7a91e"
      },
      "execution_count": null,
      "outputs": [
        {
          "output_type": "stream",
          "name": "stdout",
          "text": [
            "--2024-03-29 01:26:24--  https://raw.githubusercontent.com/b0bhat/colab-data/main/amenities-vancouver.json.gz\n",
            "Resolving raw.githubusercontent.com (raw.githubusercontent.com)... 185.199.110.133, 185.199.109.133, 185.199.108.133, ...\n",
            "Connecting to raw.githubusercontent.com (raw.githubusercontent.com)|185.199.110.133|:443... connected.\n",
            "HTTP request sent, awaiting response... 200 OK\n",
            "Length: 658247 (643K) [application/octet-stream]\n",
            "Saving to: ‘amenities-vancouver.json.gz’\n",
            "\n",
            "\r          amenities   0%[                    ]       0  --.-KB/s               \ramenities-vancouver 100%[===================>] 642.82K  --.-KB/s    in 0.04s   \n",
            "\n",
            "2024-03-29 01:26:24 (14.2 MB/s) - ‘amenities-vancouver.json.gz’ saved [658247/658247]\n",
            "\n"
          ]
        }
      ]
    },
    {
      "cell_type": "code",
      "source": [
        "# with the provided amenities-vancouver.json.gz\n",
        "data = pd.read_json('./amenities-vancouver.json.gz', lines=True)"
      ],
      "metadata": {
        "id": "MW_GeBlOdBZP"
      },
      "execution_count": null,
      "outputs": []
    },
    {
      "cell_type": "code",
      "source": [
        "['cafe' 'fast_food' 'toilets' 'bbq' 'place_of_worship' ''\n",
        " 'telephone' 'fuel' 'vending_machine' 'restaurant' 'parking_entrance'\n",
        " 'pub' 'bicycle_parking' 'school' 'bench' 'community_centre'\n",
        " 'waste_basket' 'pharmacy' 'dentist' 'doctors' 'post_office' 'atm'\n",
        " 'childcare' 'parking' 'public_building' 'bank' 'cinema' 'theatre'\n",
        " 'ferry_terminal' 'bar' 'library' 'car_rental' 'drinking_water' 'shelter'\n",
        " 'car_sharing' 'bicycle_rental' 'clinic' 'recycling' 'public_bookcase'\n",
        " 'university' 'dojo' 'food_court' 'seaplane terminal' 'arts_centre'\n",
        " 'ice_cream' 'charging_station' 'car_wash' 'fountain' 'veterinary'\n",
        " 'bicycle_repair_station' 'waste_disposal' 'photo_booth' 'luggage_locker'\n",
        " 'bureau_de_change' 'parking_space' 'nightclub' 'social_facility' 'taxi'\n",
        " 'bus_station' 'college' 'construction' 'post_depot' 'nursery' 'clock'\n",
        " 'kindergarten' 'conference_centre' 'shower' 'marketplace' 'hospital'\n",
        " 'trolley_bay' 'fire_station' 'police' 'motorcycle_parking' 'stripclub'\n",
        " 'gambling' 'compressed_air' 'family_centre' 'townhall' 'music_school'\n",
        " 'bistro' 'playground' 'boat_rental' 'meditation_centre' 'spa' 'scrapyard'\n",
        " 'language_school' 'courthouse' 'events_venue' 'prep_school' 'healthcare'\n",
        " 'cram_school' 'science' 'ATLAS_clean_room' 'workshop' 'safety' 'lobby'\n",
        " 'animal_shelter' 'juice_bar' 'internet_cafe' 'social_centre'\n",
        " 'vacuum_cleaner' 'smoking_area' 'EVSE' 'studio' 'first_aid'\n",
        " 'ranger_station' 'storage_rental' 'watering_place' 'lounge' 'trash'\n",
        " 'sanitary_dump_station' 'disused:restaurant' 'water_point'\n",
        " 'Observation Platform' 'housing co-op' 'driving_school' 'loading_dock'\n",
        " 'chiropractor' 'monastery' 'storage' 'gym' 'payment_terminal' 'atm;bank'\n",
        " 'park' 'biergarten' 'casino' 'Pharmacy' 'waste_transfer_station'\n",
        " 'office|financial' 'hunting_stand' 'money_transfer' 'shop|clothes'\n",
        " 'letter_box' 'training' 'car_rep' 'research_institute'\n",
        " 'motorcycle_rental' 'leisure']"
      ],
      "metadata": {
        "id": "zi8CMY2l38Rz",
        "colab": {
          "base_uri": "https://localhost:8080/"
        },
        "outputId": "c789789e-9af0-44da-d481-1e784ee080da"
      },
      "execution_count": null,
      "outputs": [
        {
          "output_type": "execute_result",
          "data": {
            "text/plain": [
              "['cafefast_foodtoiletsbbqplace_of_worshiptelephonefuelvending_machinerestaurantparking_entrancepubbicycle_parkingschoolbenchcommunity_centrewaste_basketpharmacydentistdoctorspost_officeatmchildcareparkingpublic_buildingbankcinematheatreferry_terminalbarlibrarycar_rentaldrinking_watersheltercar_sharingbicycle_rentalclinicrecyclingpublic_bookcaseuniversitydojofood_courtseaplane terminalarts_centreice_creamcharging_stationcar_washfountainveterinarybicycle_repair_stationwaste_disposalphoto_boothluggage_lockerbureau_de_changeparking_spacenightclubsocial_facilitytaxibus_stationcollegeconstructionpost_depotnurseryclockkindergartenconference_centreshowermarketplacehospitaltrolley_bayfire_stationpolicemotorcycle_parkingstripclubgamblingcompressed_airfamily_centretownhallmusic_schoolbistroplaygroundboat_rentalmeditation_centrespascrapyardlanguage_schoolcourthouseevents_venueprep_schoolhealthcarecram_schoolscienceATLAS_clean_roomworkshopsafetylobbyanimal_shelterjuice_barinternet_cafesocial_centrevacuum_cleanersmoking_areaEVSEstudiofirst_aidranger_stationstorage_rentalwatering_placeloungetrashsanitary_dump_stationdisused:restaurantwater_pointObservation Platformhousing co-opdriving_schoolloading_dockchiropractormonasterystoragegympayment_terminalatm;bankparkbiergartencasinoPharmacywaste_transfer_stationoffice|financialhunting_standmoney_transfershop|clothesletter_boxtrainingcar_represearch_institutemotorcycle_rentalleisure']"
            ]
          },
          "metadata": {},
          "execution_count": 4
        }
      ]
    },
    {
      "cell_type": "markdown",
      "source": [
        "## Cleaning the Data Sets:\n",
        "- remove uneccessary amentity types, for example, bench, washroom, etc.\n",
        "- fix amentities by tag or knowledge, for example\n",
        "  - we all know that the gas town steam clock is a tourist attraction point, but its amentity is `clock` in the data set, change it to `tourist_attraction`"
      ],
      "metadata": {
        "id": "GW-5jTXs2J4M"
      }
    },
    {
      "cell_type": "code",
      "source": [
        "amenities_not_include = [\n",
        "    \"toilets\", \"place_of_worship\", \"post_box\", \"telephone\", \"school\", \"bench\", \"community_centre\",\n",
        "    \"waste_basket\", \"pharmacy\", \"dentist\", \"doctors\", \"post_office\", \"childcare\", \"clinic\", \"recycling\",\n",
        "    \"public_bookcase\", \"university\", \"dojo\", \"veterinary\", \"bicycle_repair_station\", \"waste_disposal\",\n",
        "    \"social_facility\", \"college\", \"construction\", \"post_depot\", \"nursery\", \"kindergarten\", \"conference_centre\",\n",
        "    \"shower\", \"hospital\", \"trolley_bay\", \"fire_station\", \"police\", \"compressed_air\", \"family_centre\",\n",
        "    \"music_school\", \"meditation_centre\", \"scrapyard\", \"language_school\", \"courthouse\", \"prep_school\", \"healthcare\",\n",
        "    \"cram_school\", \"science\", \"ATLAS_clean_room\", \"workshop\", \"safety\", \"lobby\", \"animal_shelter\",\n",
        "    \"vacuum_cleaner\", \"studio\", \"first_aid\", \"ranger_station\", \"storage_rental\", \"trash\", \"sanitary_dump_station\",\n",
        "    \"housing co-op\", \"driving_school\", \"loading_dock\", \"chiropractor\", \"monastery\", \"storage\", \"payment_terminal\",\n",
        "    \"Pharmacy\", \"waste_transfer_station\", \"office|financial\", \"letter_box\", \"training\", \"research_institute\",\n",
        "    \"fuel\", \"parking\", \"parking_entrance\", \"bicycle_parking\", \"public_building\", \"bank\", \"shelter\",\n",
        "    \"car_sharing\", \"drinking_water\", \"vending_machine\", \"parking\", \"ferry_terminal\", \"atm\", \"car_rental\",\n",
        "    \"car_wash\", \"charging_station\", \"bicycle_rental\", \"seaplane terminal\", \"luggage_locker\", \"bureau_de_change\",\n",
        "    \"taxi\", \"bus_station\", \"stripclub\", \"spa\", \"motorcycle_parking\", \"water_point\", \"boat_rental\", \"smoking_area\",\n",
        "    \"EVSE\", \"car_rep\", \"watering_place\", \"lounge\", \"parking_space\", \"gym\", \"atm;bank\", \"hunting_stand\", \"money_transfer\",\n",
        "    \"motorcycle_rental\"\n",
        "    ]"
      ],
      "metadata": {
        "id": "KHxXgMFJ3ria"
      },
      "execution_count": null,
      "outputs": []
    },
    {
      "cell_type": "code",
      "source": [
        "# interesting places, but probably low weight?\n",
        "low_weight = [\n",
        "    \"nightclub\", \"townhall\", \"theatre\", \"library\", \"arts_centre\", \"cinema\", \"playground\", \"photo_booth\",\n",
        "    \"fountain\", \"marketplace\", \"gambling\", \"social_centre\", \"events_venue\", \"clock\"\n",
        "]"
      ],
      "metadata": {
        "id": "1PM2IYnJsD9x"
      },
      "execution_count": null,
      "outputs": []
    },
    {
      "cell_type": "code",
      "source": [
        "# food\n",
        "food = [\n",
        "    \"restaurant\", \"bistro\", \"fast_food\", \"bar\", \"pub\", \"cafe\", \"ice_cream\", \"food_court\", \"bbq\",\n",
        "    \"disused:restaurant\", \"juice_bar\", \"internet_cafe\", \"biergarten\",\n",
        "]"
      ],
      "metadata": {
        "id": "VysXQHBXswOK"
      },
      "execution_count": null,
      "outputs": []
    },
    {
      "cell_type": "code",
      "source": [
        "# Function to check if a tags has 'historic' or 'tourism' keys\n",
        "def has_tourism(tags):\n",
        "    return 'tourism' in tags\n",
        "\n",
        "# all records that have tourism key in their tag\n",
        "tourism_data = data[data['tags'].apply(has_tourism)]\n",
        "\n",
        "# remove records in the filtered_data that has 'bench' or 'Trans Canada Trail Pavillion' in the 'name' column\n",
        "tourism_data = tourism_data[tourism_data['amenity'] != 'bench']\n",
        "tourism_data = tourism_data[tourism_data['name'] != 'Trans Canada Trail Pavillion']\n",
        "\n",
        "# for record in the filtered_data, change its 'amenity' column to 'tourism' and update the main data\n",
        "data.loc[tourism_data.index, 'amenity'] = 'tourism'\n",
        "\n",
        "# list with amenities to include\n",
        "# amenities_include = set(data['amenity'].unique()) - set(amenities_not_include)  - set(food)\n",
        "amenities_include = set(data['amenity'].unique()) - set(amenities_not_include)\n",
        "amenities_food = set(data['amenity'].unique())\n",
        "\n",
        "# keep records in data that if the 'amenity' column is in the amenities_include list\n",
        "food_data = data[data['amenity'].isin(amenities_include)]\n",
        "data = data[data['amenity'].isin(amenities_include)]\n",
        "data.to_csv('amenities-vancouver-included.csv', index=False)"
      ],
      "metadata": {
        "id": "6wdGj8-VkKpL"
      },
      "execution_count": null,
      "outputs": []
    },
    {
      "cell_type": "markdown",
      "source": [
        "## Weighting the amenity\n",
        "1. decide base weight for unique amenities"
      ],
      "metadata": {
        "id": "B-Iq3lUDoW5z"
      }
    },
    {
      "cell_type": "code",
      "source": [
        "data['amenity'].unique()"
      ],
      "metadata": {
        "colab": {
          "base_uri": "https://localhost:8080/"
        },
        "id": "IsoD7zNq0G0E",
        "outputId": "66d10ceb-3b2a-4260-b368-55d76c32ae2c"
      },
      "execution_count": null,
      "outputs": [
        {
          "output_type": "execute_result",
          "data": {
            "text/plain": [
              "array(['cafe', 'fast_food', 'bbq', 'restaurant', 'pub', 'cinema',\n",
              "       'theatre', 'bar', 'library', 'food_court', 'arts_centre',\n",
              "       'ice_cream', 'fountain', 'photo_booth', 'nightclub', 'tourism',\n",
              "       'marketplace', 'clock', 'gambling', 'townhall', 'bistro',\n",
              "       'playground', 'events_venue', 'juice_bar', 'internet_cafe',\n",
              "       'social_centre', 'disused:restaurant', 'Observation Platform',\n",
              "       'park', 'biergarten', 'casino', 'leisure'], dtype=object)"
            ]
          },
          "metadata": {},
          "execution_count": 9
        }
      ]
    },
    {
      "cell_type": "code",
      "source": [
        "adult_only_amenities = ['bar','pub','nightclub', 'gambling', 'casino']\n",
        "\n",
        "# assign manually the base weight to different amenity from range (1-10)\n",
        "base_weights = {\n",
        "    \"cafe\": 3,\n",
        "    \"fast_food\": 2,\n",
        "    \"bbq\": 3,\n",
        "    \"restaurant\": 6,\n",
        "    \"pub\": 5,    # familty mode\n",
        "    \"cinema\": 5,\n",
        "    \"theatre\": 5,\n",
        "    \"bar\": 6,    # familty mode\n",
        "    \"library\": 2,\n",
        "    \"fountain\": 1,\n",
        "    \"photo_booth\": 4,\n",
        "    \"nightclub\": 5,    # familty mode\n",
        "    \"tourism\": 10,\n",
        "    \"marketplace\": 9,\n",
        "    \"clock\": 1,\n",
        "    \"gambling\": 6,    # familty mode\n",
        "    \"townhall\": 2,\n",
        "    \"bistro\": 5,\n",
        "    \"playground\": 4,\n",
        "    \"events_venue\": 6,\n",
        "    \"juice_bar\": 3,\n",
        "    \"internet_cafe\": 3,\n",
        "    \"social_centre\": 3,\n",
        "    \"disused:restaurant\": 6,\n",
        "    \"Observation Platform\": 8,\n",
        "    \"park\": 5,\n",
        "    \"biergarten\": 5,    # familty mode\n",
        "    \"casino\": 5,    # familty mode\n",
        "    \"leisure\": 5,\n",
        "    \"shop|clothes\": 7}\n",
        "\n",
        "# map the dictionary to the dataset\n",
        "data['weight'] = data['amenity'].map(base_weights)"
      ],
      "metadata": {
        "id": "SI94ahC7odDl",
        "colab": {
          "base_uri": "https://localhost:8080/",
          "height": 81
        },
        "outputId": "233ac2a6-0359-4e04-8bd9-bcbbc2f2111e"
      },
      "execution_count": null,
      "outputs": [
        {
          "output_type": "execute_result",
          "data": {
            "text/plain": [
              "             lat         lon                      timestamp  \\\n",
              "10385  49.325315 -123.124771  2019-05-02T13:27:49.000-07:00   \n",
              "\n",
              "                  amenity   name tags  weight  \n",
              "10385  disused:restaurant  Earls   {}     0.0  "
            ],
            "text/html": [
              "\n",
              "  <div id=\"df-bba18953-177e-45a6-91e1-b8bc9d1417a6\" class=\"colab-df-container\">\n",
              "    <div>\n",
              "<style scoped>\n",
              "    .dataframe tbody tr th:only-of-type {\n",
              "        vertical-align: middle;\n",
              "    }\n",
              "\n",
              "    .dataframe tbody tr th {\n",
              "        vertical-align: top;\n",
              "    }\n",
              "\n",
              "    .dataframe thead th {\n",
              "        text-align: right;\n",
              "    }\n",
              "</style>\n",
              "<table border=\"1\" class=\"dataframe\">\n",
              "  <thead>\n",
              "    <tr style=\"text-align: right;\">\n",
              "      <th></th>\n",
              "      <th>lat</th>\n",
              "      <th>lon</th>\n",
              "      <th>timestamp</th>\n",
              "      <th>amenity</th>\n",
              "      <th>name</th>\n",
              "      <th>tags</th>\n",
              "      <th>weight</th>\n",
              "    </tr>\n",
              "  </thead>\n",
              "  <tbody>\n",
              "    <tr>\n",
              "      <th>10385</th>\n",
              "      <td>49.325315</td>\n",
              "      <td>-123.124771</td>\n",
              "      <td>2019-05-02T13:27:49.000-07:00</td>\n",
              "      <td>disused:restaurant</td>\n",
              "      <td>Earls</td>\n",
              "      <td>{}</td>\n",
              "      <td>0.0</td>\n",
              "    </tr>\n",
              "  </tbody>\n",
              "</table>\n",
              "</div>\n",
              "    <div class=\"colab-df-buttons\">\n",
              "\n",
              "  <div class=\"colab-df-container\">\n",
              "    <button class=\"colab-df-convert\" onclick=\"convertToInteractive('df-bba18953-177e-45a6-91e1-b8bc9d1417a6')\"\n",
              "            title=\"Convert this dataframe to an interactive table.\"\n",
              "            style=\"display:none;\">\n",
              "\n",
              "  <svg xmlns=\"http://www.w3.org/2000/svg\" height=\"24px\" viewBox=\"0 -960 960 960\">\n",
              "    <path d=\"M120-120v-720h720v720H120Zm60-500h600v-160H180v160Zm220 220h160v-160H400v160Zm0 220h160v-160H400v160ZM180-400h160v-160H180v160Zm440 0h160v-160H620v160ZM180-180h160v-160H180v160Zm440 0h160v-160H620v160Z\"/>\n",
              "  </svg>\n",
              "    </button>\n",
              "\n",
              "  <style>\n",
              "    .colab-df-container {\n",
              "      display:flex;\n",
              "      gap: 12px;\n",
              "    }\n",
              "\n",
              "    .colab-df-convert {\n",
              "      background-color: #E8F0FE;\n",
              "      border: none;\n",
              "      border-radius: 50%;\n",
              "      cursor: pointer;\n",
              "      display: none;\n",
              "      fill: #1967D2;\n",
              "      height: 32px;\n",
              "      padding: 0 0 0 0;\n",
              "      width: 32px;\n",
              "    }\n",
              "\n",
              "    .colab-df-convert:hover {\n",
              "      background-color: #E2EBFA;\n",
              "      box-shadow: 0px 1px 2px rgba(60, 64, 67, 0.3), 0px 1px 3px 1px rgba(60, 64, 67, 0.15);\n",
              "      fill: #174EA6;\n",
              "    }\n",
              "\n",
              "    .colab-df-buttons div {\n",
              "      margin-bottom: 4px;\n",
              "    }\n",
              "\n",
              "    [theme=dark] .colab-df-convert {\n",
              "      background-color: #3B4455;\n",
              "      fill: #D2E3FC;\n",
              "    }\n",
              "\n",
              "    [theme=dark] .colab-df-convert:hover {\n",
              "      background-color: #434B5C;\n",
              "      box-shadow: 0px 1px 3px 1px rgba(0, 0, 0, 0.15);\n",
              "      filter: drop-shadow(0px 1px 2px rgba(0, 0, 0, 0.3));\n",
              "      fill: #FFFFFF;\n",
              "    }\n",
              "  </style>\n",
              "\n",
              "    <script>\n",
              "      const buttonEl =\n",
              "        document.querySelector('#df-bba18953-177e-45a6-91e1-b8bc9d1417a6 button.colab-df-convert');\n",
              "      buttonEl.style.display =\n",
              "        google.colab.kernel.accessAllowed ? 'block' : 'none';\n",
              "\n",
              "      async function convertToInteractive(key) {\n",
              "        const element = document.querySelector('#df-bba18953-177e-45a6-91e1-b8bc9d1417a6');\n",
              "        const dataTable =\n",
              "          await google.colab.kernel.invokeFunction('convertToInteractive',\n",
              "                                                    [key], {});\n",
              "        if (!dataTable) return;\n",
              "\n",
              "        const docLinkHtml = 'Like what you see? Visit the ' +\n",
              "          '<a target=\"_blank\" href=https://colab.research.google.com/notebooks/data_table.ipynb>data table notebook</a>'\n",
              "          + ' to learn more about interactive tables.';\n",
              "        element.innerHTML = '';\n",
              "        dataTable['output_type'] = 'display_data';\n",
              "        await google.colab.output.renderOutput(dataTable, element);\n",
              "        const docLink = document.createElement('div');\n",
              "        docLink.innerHTML = docLinkHtml;\n",
              "        element.appendChild(docLink);\n",
              "      }\n",
              "    </script>\n",
              "  </div>\n",
              "\n",
              "\n",
              "    </div>\n",
              "  </div>\n"
            ],
            "application/vnd.google.colaboratory.intrinsic+json": {
              "type": "dataframe",
              "repr_error": "0"
            }
          },
          "metadata": {},
          "execution_count": 16
        }
      ]
    },
    {
      "cell_type": "code",
      "source": [],
      "metadata": {
        "id": "ufmSwow95jjI"
      },
      "execution_count": null,
      "outputs": []
    },
    {
      "cell_type": "markdown",
      "source": [
        "## Image Processing (extract metedata from a input picture)\n",
        "Will use the pillow python module"
      ],
      "metadata": {
        "id": "O5F2ScHnQF_g"
      }
    },
    {
      "cell_type": "code",
      "source": [
        "!pip install pillow-heif"
      ],
      "metadata": {
        "colab": {
          "base_uri": "https://localhost:8080/"
        },
        "id": "kVMmDu1tlyUV",
        "outputId": "2218fb1a-3512-4957-f1e1-0ba6a3d3bf10"
      },
      "execution_count": null,
      "outputs": [
        {
          "output_type": "stream",
          "name": "stdout",
          "text": [
            "Collecting pillow-heif\n",
            "  Downloading pillow_heif-0.15.0-cp310-cp310-manylinux_2_17_x86_64.manylinux2014_x86_64.whl (7.5 MB)\n",
            "\u001b[?25l     \u001b[90m━━━━━━━━━━━━━━━━━━━━━━━━━━━━━━━━━━━━━━━━\u001b[0m \u001b[32m0.0/7.5 MB\u001b[0m \u001b[31m?\u001b[0m eta \u001b[36m-:--:--\u001b[0m\r\u001b[2K     \u001b[91m╸\u001b[0m\u001b[90m━━━━━━━━━━━━━━━━━━━━━━━━━━━━━━━━━━━━━━━\u001b[0m \u001b[32m0.2/7.5 MB\u001b[0m \u001b[31m5.3 MB/s\u001b[0m eta \u001b[36m0:00:02\u001b[0m\r\u001b[2K     \u001b[91m━━━\u001b[0m\u001b[90m╺\u001b[0m\u001b[90m━━━━━━━━━━━━━━━━━━━━━━━━━━━━━━━━━━━━\u001b[0m \u001b[32m0.6/7.5 MB\u001b[0m \u001b[31m8.6 MB/s\u001b[0m eta \u001b[36m0:00:01\u001b[0m\r\u001b[2K     \u001b[91m━━━━━\u001b[0m\u001b[91m╸\u001b[0m\u001b[90m━━━━━━━━━━━━━━━━━━━━━━━━━━━━━━━━━━\u001b[0m \u001b[32m1.1/7.5 MB\u001b[0m \u001b[31m10.6 MB/s\u001b[0m eta \u001b[36m0:00:01\u001b[0m\r\u001b[2K     \u001b[91m━━━━━━━━━\u001b[0m\u001b[90m╺\u001b[0m\u001b[90m━━━━━━━━━━━━━━━━━━━━━━━━━━━━━━\u001b[0m \u001b[32m1.8/7.5 MB\u001b[0m \u001b[31m12.5 MB/s\u001b[0m eta \u001b[36m0:00:01\u001b[0m\r\u001b[2K     \u001b[91m━━━━━━━━━━━━━\u001b[0m\u001b[91m╸\u001b[0m\u001b[90m━━━━━━━━━━━━━━━━━━━━━━━━━━\u001b[0m \u001b[32m2.6/7.5 MB\u001b[0m \u001b[31m14.6 MB/s\u001b[0m eta \u001b[36m0:00:01\u001b[0m\r\u001b[2K     \u001b[91m━━━━━━━━━━━━━━━━━━━\u001b[0m\u001b[90m╺\u001b[0m\u001b[90m━━━━━━━━━━━━━━━━━━━━\u001b[0m \u001b[32m3.6/7.5 MB\u001b[0m \u001b[31m17.2 MB/s\u001b[0m eta \u001b[36m0:00:01\u001b[0m\r\u001b[2K     \u001b[91m━━━━━━━━━━━━━━━━━━━━━━━━━━\u001b[0m\u001b[90m╺\u001b[0m\u001b[90m━━━━━━━━━━━━━\u001b[0m \u001b[32m5.0/7.5 MB\u001b[0m \u001b[31m20.0 MB/s\u001b[0m eta \u001b[36m0:00:01\u001b[0m\r\u001b[2K     \u001b[91m━━━━━━━━━━━━━━━━━━━━━━━━━━━━━━━━━━\u001b[0m\u001b[91m╸\u001b[0m\u001b[90m━━━━━\u001b[0m \u001b[32m6.6/7.5 MB\u001b[0m \u001b[31m23.1 MB/s\u001b[0m eta \u001b[36m0:00:01\u001b[0m\r\u001b[2K     \u001b[91m━━━━━━━━━━━━━━━━━━━━━━━━━━━━━━━━━━━━━━━\u001b[0m\u001b[91m╸\u001b[0m \u001b[32m7.5/7.5 MB\u001b[0m \u001b[31m24.8 MB/s\u001b[0m eta \u001b[36m0:00:01\u001b[0m\r\u001b[2K     \u001b[91m━━━━━━━━━━━━━━━━━━━━━━━━━━━━━━━━━━━━━━━\u001b[0m\u001b[91m╸\u001b[0m \u001b[32m7.5/7.5 MB\u001b[0m \u001b[31m24.8 MB/s\u001b[0m eta \u001b[36m0:00:01\u001b[0m\r\u001b[2K     \u001b[90m━━━━━━━━━━━━━━━━━━━━━━━━━━━━━━━━━━━━━━━━\u001b[0m \u001b[32m7.5/7.5 MB\u001b[0m \u001b[31m20.0 MB/s\u001b[0m eta \u001b[36m0:00:00\u001b[0m\n",
            "\u001b[?25hRequirement already satisfied: pillow>=9.2.0 in /usr/local/lib/python3.10/dist-packages (from pillow-heif) (9.4.0)\n",
            "\u001b[31mERROR: Operation cancelled by user\u001b[0m\u001b[31m\n",
            "\u001b[0mTraceback (most recent call last):\n",
            "  File \"/usr/local/lib/python3.10/dist-packages/pip/_vendor/pkg_resources/__init__.py\", line 3108, in _dep_map\n",
            "    return self.__dep_map\n",
            "  File \"/usr/local/lib/python3.10/dist-packages/pip/_vendor/pkg_resources/__init__.py\", line 2901, in __getattr__\n",
            "    raise AttributeError(attr)\n",
            "AttributeError: _DistInfoDistribution__dep_map\n",
            "\n",
            "During handling of the above exception, another exception occurred:\n",
            "\n",
            "Traceback (most recent call last):\n",
            "  File \"/usr/local/lib/python3.10/dist-packages/pip/_internal/cli/base_command.py\", line 169, in exc_logging_wrapper\n",
            "    status = run_func(*args)\n",
            "  File \"/usr/local/lib/python3.10/dist-packages/pip/_internal/cli/req_command.py\", line 242, in wrapper\n",
            "    return func(self, options, args)\n",
            "  File \"/usr/local/lib/python3.10/dist-packages/pip/_internal/commands/install.py\", line 441, in run\n",
            "    conflicts = self._determine_conflicts(to_install)\n",
            "  File \"/usr/local/lib/python3.10/dist-packages/pip/_internal/commands/install.py\", line 572, in _determine_conflicts\n",
            "    return check_install_conflicts(to_install)\n",
            "  File \"/usr/local/lib/python3.10/dist-packages/pip/_internal/operations/check.py\", line 101, in check_install_conflicts\n",
            "    package_set, _ = create_package_set_from_installed()\n",
            "  File \"/usr/local/lib/python3.10/dist-packages/pip/_internal/operations/check.py\", line 42, in create_package_set_from_installed\n",
            "    dependencies = list(dist.iter_dependencies())\n",
            "  File \"/usr/local/lib/python3.10/dist-packages/pip/_internal/metadata/pkg_resources.py\", line 216, in iter_dependencies\n",
            "    return self._dist.requires(extras)\n",
            "  File \"/usr/local/lib/python3.10/dist-packages/pip/_vendor/pkg_resources/__init__.py\", line 2821, in requires\n",
            "    dm = self._dep_map\n",
            "  File \"/usr/local/lib/python3.10/dist-packages/pip/_vendor/pkg_resources/__init__.py\", line 3110, in _dep_map\n",
            "    self.__dep_map = self._compute_dependencies()\n",
            "  File \"/usr/local/lib/python3.10/dist-packages/pip/_vendor/pkg_resources/__init__.py\", line 3120, in _compute_dependencies\n",
            "    reqs.extend(parse_requirements(req))\n",
            "  File \"/usr/local/lib/python3.10/dist-packages/pip/_vendor/pkg_resources/__init__.py\", line 3173, in __init__\n",
            "    super(Requirement, self).__init__(requirement_string)\n",
            "  File \"/usr/local/lib/python3.10/dist-packages/pip/_vendor/packaging/requirements.py\", line 102, in __init__\n",
            "    req = REQUIREMENT.parseString(requirement_string)\n",
            "  File \"/usr/local/lib/python3.10/dist-packages/pip/_vendor/pyparsing/core.py\", line 1131, in parse_string\n",
            "    loc, tokens = self._parse(instring, 0)\n",
            "  File \"/usr/local/lib/python3.10/dist-packages/pip/_vendor/pyparsing/core.py\", line 817, in _parseNoCache\n",
            "    loc, tokens = self.parseImpl(instring, pre_loc, doActions)\n",
            "  File \"/usr/local/lib/python3.10/dist-packages/pip/_vendor/pyparsing/core.py\", line 3886, in parseImpl\n",
            "    loc, exprtokens = e._parse(instring, loc, doActions)\n",
            "  File \"/usr/local/lib/python3.10/dist-packages/pip/_vendor/pyparsing/core.py\", line 817, in _parseNoCache\n",
            "    loc, tokens = self.parseImpl(instring, pre_loc, doActions)\n",
            "  File \"/usr/local/lib/python3.10/dist-packages/pip/_vendor/pyparsing/core.py\", line 4114, in parseImpl\n",
            "    return e._parse(\n",
            "  File \"/usr/local/lib/python3.10/dist-packages/pip/_vendor/pyparsing/core.py\", line 817, in _parseNoCache\n",
            "    loc, tokens = self.parseImpl(instring, pre_loc, doActions)\n",
            "  File \"/usr/local/lib/python3.10/dist-packages/pip/_vendor/pyparsing/core.py\", line 3886, in parseImpl\n",
            "    loc, exprtokens = e._parse(instring, loc, doActions)\n",
            "  File \"/usr/local/lib/python3.10/dist-packages/pip/_vendor/pyparsing/core.py\", line 817, in _parseNoCache\n",
            "    loc, tokens = self.parseImpl(instring, pre_loc, doActions)\n",
            "  File \"/usr/local/lib/python3.10/dist-packages/pip/_vendor/pyparsing/core.py\", line 4959, in parseImpl\n",
            "    loc, tokens = self_expr._parse(instring, loc, doActions, callPreParse=False)\n",
            "  File \"/usr/local/lib/python3.10/dist-packages/pip/_vendor/pyparsing/core.py\", line 817, in _parseNoCache\n",
            "    loc, tokens = self.parseImpl(instring, pre_loc, doActions)\n",
            "  File \"/usr/local/lib/python3.10/dist-packages/pip/_vendor/pyparsing/core.py\", line 3886, in parseImpl\n",
            "    loc, exprtokens = e._parse(instring, loc, doActions)\n",
            "  File \"/usr/local/lib/python3.10/dist-packages/pip/_vendor/pyparsing/core.py\", line 817, in _parseNoCache\n",
            "    loc, tokens = self.parseImpl(instring, pre_loc, doActions)\n",
            "  File \"/usr/local/lib/python3.10/dist-packages/pip/_vendor/pyparsing/core.py\", line 3886, in parseImpl\n",
            "    loc, exprtokens = e._parse(instring, loc, doActions)\n",
            "  File \"/usr/local/lib/python3.10/dist-packages/pip/_vendor/pyparsing/core.py\", line 817, in _parseNoCache\n",
            "    loc, tokens = self.parseImpl(instring, pre_loc, doActions)\n",
            "  File \"/usr/local/lib/python3.10/dist-packages/pip/_vendor/pyparsing/core.py\", line 5226, in parseImpl\n",
            "    return super().parseImpl(instring, loc, doActions)\n",
            "  File \"/usr/local/lib/python3.10/dist-packages/pip/_vendor/pyparsing/core.py\", line 4375, in parseImpl\n",
            "    return self.expr._parse(instring, loc, doActions, callPreParse=False)\n",
            "  File \"/usr/local/lib/python3.10/dist-packages/pip/_vendor/pyparsing/core.py\", line 817, in _parseNoCache\n",
            "    loc, tokens = self.parseImpl(instring, pre_loc, doActions)\n",
            "  File \"/usr/local/lib/python3.10/dist-packages/pip/_vendor/pyparsing/core.py\", line 3864, in parseImpl\n",
            "    loc, resultlist = self.exprs[0]._parse(\n",
            "  File \"/usr/local/lib/python3.10/dist-packages/pip/_vendor/pyparsing/core.py\", line 817, in _parseNoCache\n",
            "    loc, tokens = self.parseImpl(instring, pre_loc, doActions)\n",
            "  File \"/usr/local/lib/python3.10/dist-packages/pip/_vendor/pyparsing/core.py\", line 4114, in parseImpl\n",
            "    return e._parse(\n",
            "  File \"/usr/local/lib/python3.10/dist-packages/pip/_vendor/pyparsing/core.py\", line 817, in _parseNoCache\n",
            "    loc, tokens = self.parseImpl(instring, pre_loc, doActions)\n",
            "  File \"/usr/local/lib/python3.10/dist-packages/pip/_vendor/pyparsing/core.py\", line 4375, in parseImpl\n",
            "    return self.expr._parse(instring, loc, doActions, callPreParse=False)\n",
            "  File \"/usr/local/lib/python3.10/dist-packages/pip/_vendor/pyparsing/core.py\", line 817, in _parseNoCache\n",
            "    loc, tokens = self.parseImpl(instring, pre_loc, doActions)\n",
            "  File \"/usr/local/lib/python3.10/dist-packages/pip/_vendor/pyparsing/core.py\", line 3864, in parseImpl\n",
            "    loc, resultlist = self.exprs[0]._parse(\n",
            "  File \"/usr/local/lib/python3.10/dist-packages/pip/_vendor/pyparsing/core.py\", line 817, in _parseNoCache\n",
            "    loc, tokens = self.parseImpl(instring, pre_loc, doActions)\n",
            "  File \"/usr/local/lib/python3.10/dist-packages/pip/_vendor/pyparsing/core.py\", line 4114, in parseImpl\n",
            "    return e._parse(\n",
            "  File \"/usr/local/lib/python3.10/dist-packages/pip/_vendor/pyparsing/core.py\", line 817, in _parseNoCache\n",
            "    loc, tokens = self.parseImpl(instring, pre_loc, doActions)\n",
            "  File \"/usr/local/lib/python3.10/dist-packages/pip/_vendor/pyparsing/core.py\", line 4114, in parseImpl\n",
            "    return e._parse(\n",
            "  File \"/usr/local/lib/python3.10/dist-packages/pip/_vendor/pyparsing/core.py\", line 811, in _parseNoCache\n",
            "    pre_loc = self.preParse(instring, loc)\n",
            "  File \"/usr/local/lib/python3.10/dist-packages/pip/_vendor/pyparsing/core.py\", line 758, in preParse\n",
            "    if self.ignoreExprs:\n",
            "KeyboardInterrupt\n",
            "\n",
            "During handling of the above exception, another exception occurred:\n",
            "\n",
            "Traceback (most recent call last):\n",
            "  File \"/usr/local/bin/pip3\", line 8, in <module>\n",
            "    sys.exit(main())\n",
            "  File \"/usr/local/lib/python3.10/dist-packages/pip/_internal/cli/main.py\", line 79, in main\n",
            "    return command.main(cmd_args)\n",
            "  File \"/usr/local/lib/python3.10/dist-packages/pip/_internal/cli/base_command.py\", line 101, in main\n",
            "    return self._main(args)\n",
            "  File \"/usr/local/lib/python3.10/dist-packages/pip/_internal/cli/base_command.py\", line 223, in _main\n",
            "    return run(options, args)\n",
            "  File \"/usr/local/lib/python3.10/dist-packages/pip/_internal/cli/base_command.py\", line 207, in exc_logging_wrapper\n",
            "    logger.debug(\"Exception information:\", exc_info=True)\n",
            "  File \"/usr/lib/python3.10/logging/__init__.py\", line 1465, in debug\n",
            "    self._log(DEBUG, msg, args, **kwargs)\n",
            "  File \"/usr/lib/python3.10/logging/__init__.py\", line 1624, in _log\n",
            "    self.handle(record)\n",
            "  File \"/usr/lib/python3.10/logging/__init__.py\", line 1634, in handle\n",
            "    self.callHandlers(record)\n",
            "  File \"/usr/lib/python3.10/logging/__init__.py\", line 1696, in callHandlers\n",
            "    hdlr.handle(record)\n",
            "  File \"/usr/lib/python3.10/logging/__init__.py\", line 968, in handle\n",
            "    self.emit(record)\n",
            "  File \"/usr/lib/python3.10/logging/handlers.py\", line 75, in emit\n",
            "    logging.FileHandler.emit(self, record)\n",
            "  File \"/usr/lib/python3.10/logging/__init__.py\", line 1218, in emit\n",
            "    StreamHandler.emit(self, record)\n",
            "  File \"/usr/lib/python3.10/logging/__init__.py\", line 1100, in emit\n",
            "    msg = self.format(record)\n",
            "  File \"/usr/lib/python3.10/logging/__init__.py\", line 943, in format\n",
            "    return fmt.format(record)\n",
            "  File \"/usr/local/lib/python3.10/dist-packages/pip/_internal/utils/logging.py\", line 112, in format\n",
            "    formatted = super().format(record)\n",
            "  File \"/usr/lib/python3.10/logging/__init__.py\", line 686, in format\n",
            "    record.exc_text = self.formatException(record.exc_info)\n",
            "  File \"/usr/lib/python3.10/logging/__init__.py\", line 636, in formatException\n",
            "    traceback.print_exception(ei[0], ei[1], tb, None, sio)\n",
            "  File \"/usr/lib/python3.10/traceback.py\", line 119, in print_exception\n",
            "    te = TracebackException(type(value), value, tb, limit=limit, compact=True)\n",
            "  File \"/usr/lib/python3.10/traceback.py\", line 502, in __init__\n",
            "    self.stack = StackSummary.extract(\n",
            "  File \"/usr/lib/python3.10/traceback.py\", line 383, in extract\n",
            "    f.line\n",
            "  File \"/usr/lib/python3.10/traceback.py\", line 306, in line\n",
            "    self._line = linecache.getline(self.filename, self.lineno)\n",
            "  File \"/usr/lib/python3.10/linecache.py\", line 30, in getline\n",
            "    lines = getlines(filename, module_globals)\n",
            "  File \"/usr/lib/python3.10/linecache.py\", line 46, in getlines\n",
            "    return updatecache(filename, module_globals)\n",
            "  File \"/usr/lib/python3.10/linecache.py\", line 136, in updatecache\n",
            "    with tokenize.open(fullname) as fp:\n",
            "  File \"/usr/lib/python3.10/tokenize.py\", line 396, in open\n",
            "    encoding, lines = detect_encoding(buffer.readline)\n",
            "  File \"/usr/lib/python3.10/tokenize.py\", line 365, in detect_encoding\n",
            "    first = read_or_stop()\n",
            "  File \"/usr/lib/python3.10/tokenize.py\", line 323, in read_or_stop\n",
            "    return readline()\n",
            "KeyboardInterrupt\n",
            "^C\n"
          ]
        }
      ]
    },
    {
      "cell_type": "code",
      "source": [
        "import os\n",
        "from PIL import Image\n",
        "from PIL.ExifTags import TAGS, GPSTAGS\n",
        "from pillow_heif import register_heif_opener"
      ],
      "metadata": {
        "id": "Qb9s2_y5b2YM",
        "colab": {
          "base_uri": "https://localhost:8080/",
          "height": 350
        },
        "outputId": "3a6aea11-9d5e-425a-8be3-4affb706f7bd"
      },
      "execution_count": null,
      "outputs": [
        {
          "output_type": "error",
          "ename": "ModuleNotFoundError",
          "evalue": "No module named 'pillow_heif'",
          "traceback": [
            "\u001b[0;31m---------------------------------------------------------------------------\u001b[0m",
            "\u001b[0;31mModuleNotFoundError\u001b[0m                       Traceback (most recent call last)",
            "\u001b[0;32m<ipython-input-76-551d4adc947f>\u001b[0m in \u001b[0;36m<cell line: 4>\u001b[0;34m()\u001b[0m\n\u001b[1;32m      2\u001b[0m \u001b[0;32mfrom\u001b[0m \u001b[0mPIL\u001b[0m \u001b[0;32mimport\u001b[0m \u001b[0mImage\u001b[0m\u001b[0;34m\u001b[0m\u001b[0;34m\u001b[0m\u001b[0m\n\u001b[1;32m      3\u001b[0m \u001b[0;32mfrom\u001b[0m \u001b[0mPIL\u001b[0m\u001b[0;34m.\u001b[0m\u001b[0mExifTags\u001b[0m \u001b[0;32mimport\u001b[0m \u001b[0mTAGS\u001b[0m\u001b[0;34m,\u001b[0m \u001b[0mGPSTAGS\u001b[0m\u001b[0;34m\u001b[0m\u001b[0;34m\u001b[0m\u001b[0m\n\u001b[0;32m----> 4\u001b[0;31m \u001b[0;32mfrom\u001b[0m \u001b[0mpillow_heif\u001b[0m \u001b[0;32mimport\u001b[0m \u001b[0mregister_heif_opener\u001b[0m\u001b[0;34m\u001b[0m\u001b[0;34m\u001b[0m\u001b[0m\n\u001b[0m",
            "\u001b[0;31mModuleNotFoundError\u001b[0m: No module named 'pillow_heif'",
            "",
            "\u001b[0;31m---------------------------------------------------------------------------\u001b[0;32m\nNOTE: If your import is failing due to a missing package, you can\nmanually install dependencies using either !pip or !apt.\n\nTo view examples of installing some common dependencies, click the\n\"Open Examples\" button below.\n\u001b[0;31m---------------------------------------------------------------------------\u001b[0m\n"
          ],
          "errorDetails": {
            "actions": [
              {
                "action": "open_url",
                "actionText": "Open Examples",
                "url": "/notebooks/snippets/importing_libraries.ipynb"
              }
            ]
          }
        }
      ]
    },
    {
      "cell_type": "code",
      "source": [
        "# reference: https://www.geeksforgeeks.org/how-to-extract-image-metadata-in-python/\n",
        "def get_metadata(image_file):\n",
        "  if image_file.endswith(\".jpg\") or image_file.endswith(\".JPG\") or image_file.endswith(\".jpeg\"):\n",
        "    image = Image.open(image_file)\n",
        "  elif image_file.endswith(\".HEIC\"):\n",
        "    register_heif_opener()\n",
        "    image = Image.open(image_file)\n",
        "\n",
        "  # extract exif metadata\n",
        "  exif_data = {}\n",
        "  exif_info = image._getexif()\n",
        "\n",
        "  if not exif_info:\n",
        "    return None\n",
        "\n",
        "  for tag, value in exif_info.items():\n",
        "    decoded = TAGS.get(tag, tag)\n",
        "    if decoded == \"GPSInfo\":\n",
        "      gps_data = {}\n",
        "      for gps_tag in value:\n",
        "          sub_decoded = GPSTAGS.get(gps_tag, gps_tag)\n",
        "          gps_data[sub_decoded] = value[gps_tag]\n",
        "      exif_data[decoded] = gps_data\n",
        "    else:\n",
        "      exif_data[decoded] = value\n",
        "\n",
        "  return exif_data\n",
        "\n",
        "# reference: https://stackoverflow.com/questions/19804768/interpreting-gps-info-of-exif-data-from-photo-in-python\n",
        "def gps_data_to_degree(degrees, minutes, seconds, direction):\n",
        "  decimal = degrees + minutes / 60 + seconds / 3600\n",
        "  if direction in ['S', 'W']:\n",
        "      decimal = -decimal\n",
        "\n",
        "  print(decimal)\n",
        "  return decimal"
      ],
      "metadata": {
        "id": "2O8e7b67cCj9"
      },
      "execution_count": null,
      "outputs": []
    },
    {
      "cell_type": "code",
      "source": [
        "img_file = \"./drive/MyDrive/cmpt353/20240317_145146.jpg\"\n",
        "img_file_local = \"./kdu4ce.jpg\"\n",
        "metadata = get_metadata(img_file_local)\n",
        "print(metadata['GPSInfo'])\n",
        "latitude = gps_data_to_degree(*metadata['GPSInfo']['GPSLatitude'], metadata['GPSInfo']['GPSLatitudeRef'])\n",
        "longitude = gps_data_to_degree(*metadata['GPSInfo']['GPSLongitude'], metadata['GPSInfo']['GPSLongitudeRef'])\n",
        "location = (longitude, latitude)\n",
        "location"
      ],
      "metadata": {
        "id": "vyQvoIEKczIZ"
      },
      "execution_count": null,
      "outputs": []
    },
    {
      "cell_type": "markdown",
      "source": [
        "## Geo Coding: Translating Addresses into latitude and longtitude\n",
        "This can translate text addresses into geographic data -> this will be use for the start location and end location\n",
        "- start location as image\n",
        "  - do some image processing to get name or address that we can geo code into lat and lon\n",
        "- end location will be text so can be directly use in geo coding"
      ],
      "metadata": {
        "id": "wqRtThN2Nqee"
      }
    },
    {
      "cell_type": "code",
      "source": [
        "# https://nominatim.org/release-docs/develop/api/Search/\n",
        "def geo_coding(address):\n",
        "    base_url = f\"https://nominatim.openstreetmap.org/search?\"\n",
        "    params = {\n",
        "        \"q\": address,\n",
        "        \"format\": \"json\"\n",
        "    }\n",
        "    headers = {\n",
        "        \"User-Agent\": \"cmpt353project\"\n",
        "    }\n",
        "    response = requests.get(base_url, params=params, headers=headers)\n",
        "    if response.status_code == 200: # successful\n",
        "      result   = response.json()\n",
        "      latitude  = result[0]['lat']\n",
        "      longitude = result[0]['lon']\n",
        "    else:\n",
        "      print(f\"[ERROR]: api call failed with code {response.status_code}\")\n",
        "      return None\n",
        "\n",
        "    return (float(longitude), float(latitude))\n",
        "\n",
        "geo_coding(\"1689 Johnston St, Vancouver, BC V6H 3R9\")"
      ],
      "metadata": {
        "id": "-oT348S7N2jE",
        "colab": {
          "base_uri": "https://localhost:8080/"
        },
        "outputId": "22e6bc9e-80d5-472b-b559-79e9874d3a41"
      },
      "execution_count": null,
      "outputs": [
        {
          "output_type": "execute_result",
          "data": {
            "text/plain": [
              "(-123.13527422182382, 49.27273135)"
            ]
          },
          "metadata": {},
          "execution_count": 9
        }
      ]
    },
    {
      "cell_type": "markdown",
      "source": [
        "## Route Generation\n",
        "\n",
        "Using lat and lon to send GET request via http to OSRM, which returns route data in geojson.\n",
        "\n",
        "Need to parse returned route for distance, and then for display as gpx?\n"
      ],
      "metadata": {
        "id": "Gxo1zeC9K9zG"
      }
    },
    {
      "cell_type": "code",
      "source": [
        "# https://project-osrm.org/docs/v5.5.1/api/#general-options\n",
        "def osrm_route_query(coordinates, mode='driving'):\n",
        "    base_url = f\"http://router.project-osrm.org/route/v1/{mode}/\"\n",
        "    coordinates_str = \";\".join([\",\".join(map(str, coord)) for coord in coordinates])\n",
        "    query_params = {\n",
        "        \"steps\": \"true\",\n",
        "        \"geometries\": \"geojson\",\n",
        "        \"overview\": \"full\"\n",
        "    }\n",
        "    response = requests.get(base_url + coordinates_str, params=query_params)\n",
        "    return response.json()\n",
        "\n",
        "start_point = (-73.98568, 40.748817)\n",
        "end_point = (-73.98739, 40.764352)\n",
        "\n",
        "\n",
        "route_data = osrm_route_query([start_point, end_point], mode=\"driving\")\n",
        "print(route_data)"
      ],
      "metadata": {
        "colab": {
          "base_uri": "https://localhost:8080/"
        },
        "id": "y5skMLWx6tMR",
        "outputId": "8c8ac1b3-3c2c-48b6-c315-64b21492ad61"
      },
      "execution_count": null,
      "outputs": [
        {
          "output_type": "stream",
          "name": "stdout",
          "text": [
            "{'code': 'Ok', 'routes': [{'geometry': {'coordinates': [[-73.985624, 40.748892], [-73.985047, 40.748645], [-73.984692, 40.748493], [-73.984557, 40.748436], [-73.984446, 40.748389], [-73.983451, 40.747973], [-73.98305, 40.747807], [-73.982962, 40.747769], [-73.982902, 40.747849], [-73.982544, 40.748335], [-73.982513, 40.748378], [-73.982478, 40.74843], [-73.982432, 40.748493], [-73.982068, 40.748991], [-73.982022, 40.749054], [-73.981973, 40.749119], [-73.981615, 40.749604], [-73.98157, 40.749665], [-73.981523, 40.74973], [-73.981193, 40.750187], [-73.981162, 40.75023], [-73.981123, 40.750283], [-73.981075, 40.750351], [-73.980722, 40.750848], [-73.980677, 40.750907], [-73.980629, 40.750971], [-73.980318, 40.751404], [-73.980272, 40.751469], [-73.980226, 40.751529], [-73.980188, 40.751581], [-73.979856, 40.752035], [-73.979819, 40.752085], [-73.979779, 40.75214], [-73.979735, 40.752201], [-73.979361, 40.752712], [-73.979287, 40.752813], [-73.979219, 40.752903], [-73.978939, 40.75327], [-73.978842, 40.753397], [-73.978824, 40.753421], [-73.978776, 40.753486], [-73.978733, 40.753544], [-73.978367, 40.754048], [-73.97833, 40.754099], [-73.978289, 40.754155], [-73.978056, 40.754472], [-73.977909, 40.754678], [-73.977867, 40.754735], [-73.977983, 40.754786], [-73.979366, 40.75536], [-73.97949, 40.755413], [-73.979614, 40.755467], [-73.980019, 40.755639], [-73.981717, 40.756357], [-73.982313, 40.756605], [-73.982573, 40.756714], [-73.982712, 40.756771], [-73.98267, 40.756828], [-73.982304, 40.757322], [-73.982297, 40.757331], [-73.982254, 40.75739], [-73.982207, 40.757454], [-73.9822, 40.757463], [-73.981836, 40.757963], [-73.981798, 40.758016], [-73.981752, 40.75808], [-73.981651, 40.758218], [-73.981384, 40.758586], [-73.981341, 40.758645], [-73.981296, 40.758707], [-73.980924, 40.759218], [-73.980883, 40.759274], [-73.980702, 40.759522], [-73.980466, 40.759844], [-73.980418, 40.759911], [-73.980315, 40.760053], [-73.980283, 40.760098], [-73.980013, 40.760469], [-73.979972, 40.760525], [-73.979925, 40.76059], [-73.979562, 40.761089], [-73.97954, 40.76112], [-73.979513, 40.761157], [-73.979474, 40.76121], [-73.979309, 40.761436], [-73.979101, 40.761723], [-73.979064, 40.761774], [-73.979201, 40.761832], [-73.979533, 40.761971], [-73.980079, 40.7622], [-73.980314, 40.762298], [-73.980347, 40.762312], [-73.980639, 40.762434], [-73.980749, 40.762481], [-73.98123, 40.762684], [-73.981537, 40.762813], [-73.981603, 40.762841], [-73.981778, 40.762914], [-73.981898, 40.762965], [-73.982034, 40.763022], [-73.982735, 40.763317], [-73.982767, 40.76333], [-73.982903, 40.763382], [-73.982977, 40.763413], [-73.984228, 40.763942], [-73.984618, 40.764107], [-73.984741, 40.76416], [-73.984847, 40.764205], [-73.984884, 40.76422], [-73.987449, 40.765311], [-73.987575, 40.765366], [-73.987616, 40.765312], [-73.987896, 40.764926], [-73.987992, 40.764796], [-73.988023, 40.764753], [-73.987896, 40.764702], [-73.987315, 40.764453]], 'type': 'LineString'}, 'legs': [{'steps': [{'geometry': {'coordinates': [[-73.985624, 40.748892], [-73.985047, 40.748645], [-73.984692, 40.748493], [-73.984557, 40.748436], [-73.984446, 40.748389], [-73.983451, 40.747973], [-73.98305, 40.747807], [-73.982962, 40.747769]], 'type': 'LineString'}, 'maneuver': {'bearing_after': 119, 'bearing_before': 0, 'location': [-73.985624, 40.748892], 'modifier': 'right', 'type': 'depart'}, 'mode': 'driving', 'driving_side': 'right', 'name': 'West 34th Street', 'intersections': [{'out': 0, 'entry': [True], 'bearings': [119], 'location': [-73.985624, 40.748892]}, {'lanes': [{'valid': True, 'indications': ['none']}, {'valid': False, 'indications': ['none']}, {'valid': False, 'indications': ['right']}], 'out': 1, 'in': 3, 'entry': [False, True, True, False], 'bearings': [30, 120, 210, 300], 'location': [-73.984557, 40.748436]}], 'weight': 38.2, 'duration': 38.2, 'distance': 257.2}, {'geometry': {'coordinates': [[-73.982962, 40.747769], [-73.982902, 40.747849], [-73.982544, 40.748335], [-73.982513, 40.748378], [-73.982478, 40.74843], [-73.982432, 40.748493], [-73.982068, 40.748991], [-73.982022, 40.749054], [-73.981973, 40.749119], [-73.981615, 40.749604], [-73.98157, 40.749665], [-73.981523, 40.74973], [-73.981193, 40.750187], [-73.981162, 40.75023], [-73.981123, 40.750283], [-73.981075, 40.750351], [-73.980722, 40.750848], [-73.980677, 40.750907], [-73.980629, 40.750971], [-73.980318, 40.751404], [-73.980272, 40.751469], [-73.980226, 40.751529], [-73.980188, 40.751581], [-73.979856, 40.752035], [-73.979819, 40.752085], [-73.979779, 40.75214], [-73.979735, 40.752201], [-73.979361, 40.752712], [-73.979287, 40.752813], [-73.979219, 40.752903], [-73.978939, 40.75327], [-73.978842, 40.753397], [-73.978824, 40.753421], [-73.978776, 40.753486], [-73.978733, 40.753544], [-73.978367, 40.754048], [-73.97833, 40.754099], [-73.978289, 40.754155], [-73.978056, 40.754472], [-73.977909, 40.754678], [-73.977867, 40.754735]], 'type': 'LineString'}, 'maneuver': {'bearing_after': 28, 'bearing_before': 118, 'location': [-73.982962, 40.747769], 'modifier': 'left', 'type': 'turn'}, 'mode': 'driving', 'driving_side': 'right', 'name': 'Madison Avenue', 'intersections': [{'lanes': [{'valid': True, 'indications': ['left']}, {'valid': False, 'indications': ['none']}, {'valid': False, 'indications': ['none']}], 'out': 0, 'in': 3, 'entry': [True, True, False, False], 'bearings': [30, 120, 210, 300], 'location': [-73.982962, 40.747769]}, {'out': 0, 'in': 2, 'entry': [True, False, False, True], 'bearings': [30, 120, 210, 300], 'location': [-73.982478, 40.74843]}, {'out': 0, 'in': 2, 'entry': [True, True, False, False], 'bearings': [30, 120, 210, 300], 'location': [-73.982022, 40.749054]}, {'out': 0, 'in': 2, 'entry': [True, False, False, True], 'bearings': [30, 120, 210, 300], 'location': [-73.98157, 40.749665]}, {'out': 0, 'in': 2, 'entry': [True, True, False, False], 'bearings': [30, 120, 210, 300], 'location': [-73.981123, 40.750283]}, {'out': 0, 'in': 2, 'entry': [True, False, False, True], 'bearings': [30, 120, 210, 300], 'location': [-73.980677, 40.750907]}, {'out': 0, 'in': 2, 'entry': [True, True, False, False], 'bearings': [30, 120, 210, 300], 'location': [-73.980226, 40.751529]}, {'out': 0, 'in': 2, 'entry': [True, True, False, False], 'bearings': [30, 120, 210, 300], 'location': [-73.979779, 40.75214]}, {'out': 0, 'in': 2, 'entry': [True, True, False, True], 'bearings': [30, 120, 210, 300], 'location': [-73.979287, 40.752813]}, {'lanes': [{'valid': False, 'indications': ['left']}, {'valid': True, 'indications': ['straight']}, {'valid': True, 'indications': ['straight']}, {'valid': True, 'indications': ['none']}, {'valid': True, 'indications': ['none']}], 'out': 0, 'in': 2, 'entry': [True, False, False, True], 'bearings': [30, 120, 210, 300], 'location': [-73.978776, 40.753486]}, {'out': 0, 'in': 2, 'entry': [True, True, False, False], 'bearings': [30, 120, 210, 300], 'location': [-73.97833, 40.754099]}], 'weight': 104, 'duration': 104, 'distance': 885.2}, {'geometry': {'coordinates': [[-73.977867, 40.754735], [-73.977983, 40.754786], [-73.979366, 40.75536], [-73.97949, 40.755413], [-73.979614, 40.755467], [-73.980019, 40.755639], [-73.981717, 40.756357], [-73.982313, 40.756605], [-73.982573, 40.756714], [-73.982712, 40.756771]], 'type': 'LineString'}, 'maneuver': {'bearing_after': 298, 'bearing_before': 28, 'location': [-73.977867, 40.754735], 'modifier': 'left', 'type': 'turn'}, 'mode': 'driving', 'driving_side': 'right', 'name': 'East 45th Street', 'intersections': [{'lanes': [{'valid': True, 'indications': ['left']}, {'valid': False, 'indications': ['straight']}, {'valid': False, 'indications': ['none']}, {'valid': False, 'indications': ['none']}, {'valid': False, 'indications': ['none']}], 'out': 3, 'in': 2, 'entry': [True, False, False, True], 'bearings': [30, 120, 210, 300], 'location': [-73.977867, 40.754735]}, {'out': 3, 'in': 1, 'entry': [False, False, True, True], 'bearings': [30, 120, 210, 300], 'location': [-73.97949, 40.755413]}], 'weight': 36.7, 'duration': 36.7, 'distance': 467.4}, {'geometry': {'coordinates': [[-73.982712, 40.756771], [-73.98267, 40.756828], [-73.982304, 40.757322], [-73.982297, 40.757331], [-73.982254, 40.75739], [-73.982207, 40.757454], [-73.9822, 40.757463], [-73.981836, 40.757963], [-73.981798, 40.758016], [-73.981752, 40.75808], [-73.981651, 40.758218], [-73.981384, 40.758586], [-73.981341, 40.758645], [-73.981296, 40.758707], [-73.980924, 40.759218], [-73.980883, 40.759274], [-73.980702, 40.759522], [-73.980466, 40.759844], [-73.980418, 40.759911], [-73.980315, 40.760053], [-73.980283, 40.760098], [-73.980013, 40.760469], [-73.979972, 40.760525], [-73.979925, 40.76059], [-73.979562, 40.761089], [-73.97954, 40.76112], [-73.979513, 40.761157], [-73.979474, 40.76121], [-73.979309, 40.761436], [-73.979101, 40.761723], [-73.979064, 40.761774]], 'type': 'LineString'}, 'maneuver': {'bearing_after': 28, 'bearing_before': 298, 'location': [-73.982712, 40.756771], 'modifier': 'right', 'type': 'turn'}, 'mode': 'driving', 'driving_side': 'right', 'name': '6th Avenue', 'intersections': [{'lanes': [{'valid': False, 'indications': ['straight']}, {'valid': True, 'indications': ['right']}], 'out': 0, 'in': 1, 'entry': [True, False, False, True], 'bearings': [30, 120, 210, 300], 'location': [-73.982712, 40.756771]}, {'out': 0, 'in': 2, 'entry': [True, True, False, False], 'bearings': [30, 120, 210, 300], 'location': [-73.982254, 40.75739]}, {'out': 0, 'in': 2, 'entry': [True, False, False, True], 'bearings': [30, 120, 210, 300], 'location': [-73.981798, 40.758016]}, {'out': 0, 'in': 2, 'entry': [True, True, False, False], 'bearings': [30, 120, 210, 300], 'location': [-73.981341, 40.758645]}, {'out': 0, 'in': 2, 'entry': [True, False, False, True], 'bearings': [30, 120, 210, 300], 'location': [-73.980883, 40.759274]}, {'out': 0, 'in': 2, 'entry': [True, True, False, False], 'bearings': [30, 120, 210, 300], 'location': [-73.980418, 40.759911]}, {'out': 0, 'in': 2, 'entry': [True, False, False, True], 'bearings': [30, 120, 210, 300], 'location': [-73.979972, 40.760525]}, {'out': 0, 'in': 2, 'entry': [True, True, False, False], 'bearings': [30, 120, 210, 300], 'location': [-73.979513, 40.761157]}], 'weight': 65.0, 'duration': 65.0, 'distance': 635.2}, {'geometry': {'coordinates': [[-73.979064, 40.761774], [-73.979201, 40.761832], [-73.979533, 40.761971], [-73.980079, 40.7622], [-73.980314, 40.762298], [-73.980347, 40.762312], [-73.980639, 40.762434], [-73.980749, 40.762481], [-73.98123, 40.762684], [-73.981537, 40.762813], [-73.981603, 40.762841], [-73.981778, 40.762914], [-73.981898, 40.762965], [-73.982034, 40.763022], [-73.982735, 40.763317], [-73.982767, 40.76333], [-73.982903, 40.763382], [-73.982977, 40.763413], [-73.984228, 40.763942], [-73.984618, 40.764107], [-73.984741, 40.76416], [-73.984847, 40.764205], [-73.984884, 40.76422], [-73.987449, 40.765311], [-73.987575, 40.765366]], 'type': 'LineString'}, 'maneuver': {'bearing_after': 298, 'bearing_before': 28, 'location': [-73.979064, 40.761774], 'modifier': 'left', 'type': 'turn'}, 'mode': 'driving', 'driving_side': 'right', 'name': 'West 53rd Street', 'intersections': [{'out': 3, 'in': 2, 'entry': [True, False, False, True], 'bearings': [30, 120, 210, 300], 'location': [-73.979064, 40.761774]}, {'lanes': [{'valid': True, 'indications': ['straight', 'left']}, {'valid': True, 'indications': ['none']}], 'out': 3, 'in': 1, 'entry': [False, False, True, True], 'bearings': [30, 120, 210, 300], 'location': [-73.981898, 40.762965]}, {'out': 3, 'in': 1, 'entry': [False, False, True, True], 'bearings': [30, 120, 210, 300], 'location': [-73.982903, 40.763382]}, {'out': 3, 'in': 1, 'entry': [True, False, False, True], 'bearings': [30, 120, 210, 300], 'location': [-73.984741, 40.76416]}], 'weight': 67.1, 'duration': 67.1, 'distance': 821.8}, {'geometry': {'coordinates': [[-73.987575, 40.765366], [-73.987616, 40.765312], [-73.987896, 40.764926], [-73.987992, 40.764796], [-73.988023, 40.764753]], 'type': 'LineString'}, 'maneuver': {'bearing_after': 208, 'bearing_before': 298, 'location': [-73.987575, 40.765366], 'modifier': 'left', 'type': 'turn'}, 'mode': 'driving', 'driving_side': 'right', 'name': '9th Avenue', 'intersections': [{'out': 2, 'in': 1, 'entry': [False, False, True, True], 'bearings': [30, 120, 210, 300], 'location': [-73.987575, 40.765366]}], 'weight': 11.6, 'duration': 11.6, 'distance': 77.9}, {'geometry': {'coordinates': [[-73.988023, 40.764753], [-73.987896, 40.764702], [-73.987315, 40.764453]], 'type': 'LineString'}, 'maneuver': {'bearing_after': 118, 'bearing_before': 208, 'location': [-73.988023, 40.764753], 'modifier': 'left', 'type': 'turn'}, 'mode': 'driving', 'driving_side': 'right', 'name': 'West 52nd Street', 'intersections': [{'lanes': [{'valid': True, 'indications': ['straight', 'left']}, {'valid': False, 'indications': ['straight']}, {'valid': False, 'indications': ['straight']}], 'out': 1, 'in': 0, 'entry': [False, True, True, False], 'bearings': [30, 120, 210, 300], 'location': [-73.988023, 40.764753]}], 'weight': 7.7, 'duration': 7.7, 'distance': 68.4}, {'geometry': {'coordinates': [[-73.987315, 40.764453], [-73.987315, 40.764453]], 'type': 'LineString'}, 'maneuver': {'bearing_after': 0, 'bearing_before': 119, 'location': [-73.987315, 40.764453], 'modifier': 'right', 'type': 'arrive'}, 'mode': 'driving', 'driving_side': 'right', 'name': 'West 52nd Street', 'intersections': [{'in': 0, 'entry': [True], 'bearings': [299], 'location': [-73.987315, 40.764453]}], 'weight': 0, 'duration': 0, 'distance': 0}], 'summary': 'Madison Avenue, West 53rd Street', 'weight': 330.3, 'duration': 330.3, 'distance': 3213.1}], 'weight_name': 'routability', 'weight': 330.3, 'duration': 330.3, 'distance': 3213.1}], 'waypoints': [{'hint': 'g1UdgCrCmYzCAAAAPwAAACMAAAAAAAAA2rAtQ628X0JI_ftBAAAAAMIAAAA_AAAAIwAAAAAAAADyYQAAqBGX-1zHbQJwEZf7EcdtAgIAfwcQnqLp', 'distance': 9.578602004, 'name': 'West 34th Street', 'location': [-73.985624, 40.748892]}, {'hint': '8GsdgP___38_AAAAUAAAAA4AAAAAAAAAIDlhQub3b0F9AUJBAAAAAD8AAABQAAAADgAAAAAAAADyYQAADQuX-yUEbgLCCpf7wANuAgEAfwcQnqLp', 'distance': 12.87972393, 'name': 'West 52nd Street', 'location': [-73.987315, 40.764453]}]}\n"
          ]
        }
      ]
    },
    {
      "cell_type": "markdown",
      "source": [
        "## Visually Presenting the Route\n",
        "- in the form of gpx file with https://www.mygpsfiles.com/app/\n",
        "- other tools"
      ],
      "metadata": {
        "id": "JC8_83B68rDi"
      }
    },
    {
      "cell_type": "code",
      "source": [
        "# from exercise3 calc_distance_hint.py\n",
        "def output_gpx(points, output_filename):\n",
        "    \"\"\"\n",
        "    Output a GPX file with latitude and longitude from the points DataFrame.\n",
        "    \"\"\"\n",
        "    from xml.dom.minidom import getDOMImplementation\n",
        "    def append_trkpt(pt, trkseg, doc):\n",
        "        trkpt = doc.createElement('trkpt')\n",
        "        trkpt.setAttribute('lat', '%.8f' % (pt['lat']))\n",
        "        trkpt.setAttribute('lon', '%.8f' % (pt['lon']))\n",
        "        trkseg.appendChild(trkpt)\n",
        "\n",
        "    doc = getDOMImplementation().createDocument(None, 'gpx', None)\n",
        "    trk = doc.createElement('trk')\n",
        "    doc.documentElement.appendChild(trk)\n",
        "    trkseg = doc.createElement('trkseg')\n",
        "    trk.appendChild(trkseg)\n",
        "\n",
        "    points.apply(append_trkpt, axis=1, trkseg=trkseg, doc=doc)\n",
        "\n",
        "    with open(output_filename, 'w') as fh:\n",
        "        doc.writexml(fh, indent=' ')"
      ],
      "metadata": {
        "id": "WPs4Fgl7RDlh"
      },
      "execution_count": null,
      "outputs": []
    },
    {
      "cell_type": "markdown",
      "source": [
        "## Test: Given start address and End address, generate a route\n",
        "Start address: SFU Burnaby, end address: UBC"
      ],
      "metadata": {
        "id": "JX1VFdly5GYP"
      }
    },
    {
      "cell_type": "code",
      "source": [
        "# given a image, extract its location\n",
        "img_file_local = \"./kdu4ce.jpeg\"\n",
        "metadata = get_metadata(img_file_local)\n",
        "latitude = gps_data_to_degree(*metadata['GPSInfo']['GPSLatitude'], metadata['GPSInfo']['GPSLatitudeRef'])\n",
        "longitude = gps_data_to_degree(*metadata['GPSInfo']['GPSLongitude'], metadata['GPSInfo']['GPSLongitudeRef'])\n",
        "start_point = (longitude, latitude)\n",
        "start_point\n",
        "# start_point = (-100183637/1000000, 140628370679/3600000000)\n",
        "\n",
        "# get location for text address\n",
        "end = \"6200 University Blvd, Vancouver, BC V6T 1Z3\"\n",
        "end_point = geo_coding(end)\n",
        "end_point\n",
        "\n",
        "# # generate route with OSRM\n",
        "# route_data = osrm_route_query((start_point, end_point), mode='driving')\n",
        "# route = route_data['routes'][0]['geometry']['coordinates']\n",
        "# route_df = pd.DataFrame(route, columns=['lon', 'lat']) # the output_gpx take pandas dataframe\n",
        "# route_df"
      ],
      "metadata": {
        "colab": {
          "base_uri": "https://localhost:8080/",
          "height": 211
        },
        "id": "KKtZ-SmC5L6b",
        "outputId": "8403ba54-bbad-4c42-aa9b-99f9eaff5364"
      },
      "execution_count": null,
      "outputs": [
        {
          "output_type": "error",
          "ename": "NameError",
          "evalue": "name 'get_metadata' is not defined",
          "traceback": [
            "\u001b[0;31m---------------------------------------------------------------------------\u001b[0m",
            "\u001b[0;31mNameError\u001b[0m                                 Traceback (most recent call last)",
            "\u001b[0;32m<ipython-input-15-f88c99551b0d>\u001b[0m in \u001b[0;36m<cell line: 3>\u001b[0;34m()\u001b[0m\n\u001b[1;32m      1\u001b[0m \u001b[0;31m# given a image, extract its location\u001b[0m\u001b[0;34m\u001b[0m\u001b[0;34m\u001b[0m\u001b[0m\n\u001b[1;32m      2\u001b[0m \u001b[0mimg_file_local\u001b[0m \u001b[0;34m=\u001b[0m \u001b[0;34m\"./kdu4ce.jpeg\"\u001b[0m\u001b[0;34m\u001b[0m\u001b[0;34m\u001b[0m\u001b[0m\n\u001b[0;32m----> 3\u001b[0;31m \u001b[0mmetadata\u001b[0m \u001b[0;34m=\u001b[0m \u001b[0mget_metadata\u001b[0m\u001b[0;34m(\u001b[0m\u001b[0mimg_file_local\u001b[0m\u001b[0;34m)\u001b[0m\u001b[0;34m\u001b[0m\u001b[0;34m\u001b[0m\u001b[0m\n\u001b[0m\u001b[1;32m      4\u001b[0m \u001b[0mlatitude\u001b[0m \u001b[0;34m=\u001b[0m \u001b[0mgps_data_to_degree\u001b[0m\u001b[0;34m(\u001b[0m\u001b[0;34m*\u001b[0m\u001b[0mmetadata\u001b[0m\u001b[0;34m[\u001b[0m\u001b[0;34m'GPSInfo'\u001b[0m\u001b[0;34m]\u001b[0m\u001b[0;34m[\u001b[0m\u001b[0;34m'GPSLatitude'\u001b[0m\u001b[0;34m]\u001b[0m\u001b[0;34m,\u001b[0m \u001b[0mmetadata\u001b[0m\u001b[0;34m[\u001b[0m\u001b[0;34m'GPSInfo'\u001b[0m\u001b[0;34m]\u001b[0m\u001b[0;34m[\u001b[0m\u001b[0;34m'GPSLatitudeRef'\u001b[0m\u001b[0;34m]\u001b[0m\u001b[0;34m)\u001b[0m\u001b[0;34m\u001b[0m\u001b[0;34m\u001b[0m\u001b[0m\n\u001b[1;32m      5\u001b[0m \u001b[0mlongitude\u001b[0m \u001b[0;34m=\u001b[0m \u001b[0mgps_data_to_degree\u001b[0m\u001b[0;34m(\u001b[0m\u001b[0;34m*\u001b[0m\u001b[0mmetadata\u001b[0m\u001b[0;34m[\u001b[0m\u001b[0;34m'GPSInfo'\u001b[0m\u001b[0;34m]\u001b[0m\u001b[0;34m[\u001b[0m\u001b[0;34m'GPSLongitude'\u001b[0m\u001b[0;34m]\u001b[0m\u001b[0;34m,\u001b[0m \u001b[0mmetadata\u001b[0m\u001b[0;34m[\u001b[0m\u001b[0;34m'GPSInfo'\u001b[0m\u001b[0;34m]\u001b[0m\u001b[0;34m[\u001b[0m\u001b[0;34m'GPSLongitudeRef'\u001b[0m\u001b[0;34m]\u001b[0m\u001b[0;34m)\u001b[0m\u001b[0;34m\u001b[0m\u001b[0;34m\u001b[0m\u001b[0m\n",
            "\u001b[0;31mNameError\u001b[0m: name 'get_metadata' is not defined"
          ]
        }
      ]
    },
    {
      "cell_type": "code",
      "source": [
        "output_gpx(route_df, \"test_iamge_processing.gpx\")"
      ],
      "metadata": {
        "id": "Whtmnk0XfjHf"
      },
      "execution_count": null,
      "outputs": []
    },
    {
      "cell_type": "markdown",
      "source": [
        "## Algorithm to find closest point"
      ],
      "metadata": {
        "id": "-PBbRwLufYXC"
      }
    },
    {
      "cell_type": "code",
      "source": [
        "#@markdown #Settings to Generate Route (not implemented yet)\n",
        "#@markdown Photo filename and location\n",
        "image_file = \"photo.png\" #@param {type:\"string\"}\n",
        "#@markdown If coordinates cannot be found, please enter address instead:\n",
        "backup_address = \"6200 University Blvd, Vancouver, BC V6T 1Z3\" #@param {type:\"string\"}\n",
        "#@markdown Approx desired duration of trip (hours)\n",
        "duration = 6 #@param {type:\"number\"}\n",
        "#@markdown other weight settings...\n",
        "\n",
        "\n",
        "from sklearn.cluster import KMeans\n",
        "from sklearn.metrics import silhouette_score\n",
        "from sklearn.preprocessing import StandardScaler\n",
        "from geopy.distance import geodesic\n",
        "from sklearn.neighbors import BallTree"
      ],
      "metadata": {
        "id": "BlSr_W2PhoNc"
      },
      "execution_count": null,
      "outputs": []
    },
    {
      "cell_type": "code",
      "source": [
        "# randomly assign weights just for testing, 1 is lame and 10 is cool\n",
        "probabilities = np.linspace(10, 1, num=10) / np.sum(np.linspace(10, 1, num=10))\n",
        "random_values = np.random.choice(np.arange(1, 11), size=len(data), p=probabilities)\n",
        "data_weighted = data.assign(weight=random_values)\n",
        "print(data_weighted)\n",
        "data_weighted.reset_index(drop=True, inplace=True)\n",
        "print(data_weighted[\"weight\"].value_counts().sort_index())"
      ],
      "metadata": {
        "colab": {
          "base_uri": "https://localhost:8080/"
        },
        "id": "hIEPCVJZ0y0I",
        "outputId": "79789971-c220-4b43-94ac-bd57dc35cc37"
      },
      "execution_count": null,
      "outputs": [
        {
          "output_type": "stream",
          "name": "stdout",
          "text": [
            "             lat         lon                      timestamp      amenity  \\\n",
            "73     49.281998 -123.124346  2019-03-22T02:51:06.000-07:00       cinema   \n",
            "74     49.280504 -123.106872  2019-12-01T04:03:46.000-08:00      theatre   \n",
            "92     49.219594 -123.066849  2019-09-02T22:08:25.000-07:00      library   \n",
            "193    49.186068 -122.943529  2020-01-09T02:48:51.000-08:00      library   \n",
            "299    49.285387 -122.790959  2019-09-13T13:56:49.000-07:00  arts_centre   \n",
            "...          ...         ...                            ...          ...   \n",
            "17462  49.133635 -123.091834  2019-06-06T07:24:12.000-07:00     fountain   \n",
            "17662  49.243200 -122.972475  2020-03-19T17:53:47.000-07:00     townhall   \n",
            "17663  49.191325 -122.849269  2020-03-19T18:04:53.000-07:00     townhall   \n",
            "17693  49.252447 -122.736873  2020-03-31T00:14:11.000-07:00     fountain   \n",
            "17694  49.251870 -122.737161  2020-03-31T00:14:11.000-07:00     fountain   \n",
            "\n",
            "                                               name  \\\n",
            "73                     Scotiabank Theatre Vancouver   \n",
            "74     Cineplex Odeon International Village Cinemas   \n",
            "92                            VPL Fraserview Branch   \n",
            "193                           Queensborough Library   \n",
            "299                       Evergreen Cultural Centre   \n",
            "...                                             ...   \n",
            "17462                                           NaN   \n",
            "17662                                           NaN   \n",
            "17663                                           NaN   \n",
            "17693                                           NaN   \n",
            "17694                                           NaN   \n",
            "\n",
            "                                                    tags  weight  \n",
            "73     {'addr:housenumber': '900', 'website': 'https:...       1  \n",
            "74     {'addr:housenumber': '88', 'alt_name': 'Tinsel...       4  \n",
            "92     {'opening_hours': 'Tu,We 10:00-21:00; Th-Sa 10...       1  \n",
            "193    {'addr:housenumber': '920', 'website': 'https:...       6  \n",
            "299    {'addr:housenumber': '1205', 'addr:street': 'P...       1  \n",
            "...                                                  ...     ...  \n",
            "17462                                                 {}       2  \n",
            "17662  {'addr:province': 'BC', 'addr:housenumber': '4...       3  \n",
            "17663  {'addr:province': 'BC', 'addr:housenumber': '1...       5  \n",
            "17693                                                 {}       6  \n",
            "17694                                                 {}       1  \n",
            "\n",
            "[258 rows x 7 columns]\n",
            "1     49\n",
            "2     43\n",
            "3     37\n",
            "4     23\n",
            "5     25\n",
            "6     33\n",
            "7     16\n",
            "8     13\n",
            "9     11\n",
            "10     8\n",
            "Name: weight, dtype: int64\n"
          ]
        }
      ]
    },
    {
      "cell_type": "code",
      "source": [
        "# need to take weight into account when finding nearest point\n",
        "def find_closest_points(tree, p_lat, p_lon, k=10, epsilon=0.001):\n",
        "    p_lat += np.random.uniform(-epsilon, epsilon)\n",
        "    p_lon += np.random.uniform(-epsilon, epsilon)\n",
        "    dist, index = tree.query([(p_lat, p_lon)], k=k)\n",
        "    return index[0], dist[0]\n",
        "\n",
        "def calculate_route(data, starting_point_index, max_points=10, max_distance=0.5):\n",
        "    indices = [starting_point_index]\n",
        "    total_distance = 0\n",
        "    total_weight = 0\n",
        "    balltree = BallTree(data[['lat', 'lon']].values, leaf_size = 15, metric='haversine')\n",
        "    visited = set([starting_point_index])\n",
        "\n",
        "    for _ in range(max_points):\n",
        "      current_point = data.loc[indices[-1]]\n",
        "      neighbors, distances = find_closest_points(balltree, current_point['lat'], current_point['lon'], k=max_points)\n",
        "      adjusted_distances = []\n",
        "\n",
        "      for neighbor, distance in zip(neighbors, distances):\n",
        "        weight = neighbor.loc[neighbor]['weight']\n",
        "        distance *= (1-(weight-1)/20)\n",
        "        adjusted_distances.append(distance)\n",
        "\n",
        "      adjusted_distances.sort()\n",
        "\n",
        "      # get a list of neighbors and if a neighbor is not in the list, use it as the next point\n",
        "      for neighbor, distance in zip(neighbors, adjusted_distances):\n",
        "        if neighbor not in visited:\n",
        "            total_distance += distance\n",
        "            total_weight += data.loc[neighbor]['weight']\n",
        "            indices.append(neighbor)\n",
        "            visited.add(neighbor)\n",
        "            break\n",
        "      if total_distance >= max_distance:\n",
        "        break\n",
        "\n",
        "    # accounts for weighting\n",
        "    # for _ in range(max_points):\n",
        "    #   current_point = data.loc[indices[-1]]\n",
        "    #   neighbors, distances = find_closest_points(balltree, current_point['lat'], current_point['lon'], k=max_points)\n",
        "    #   # get a list of neighbors and if a neighbor is not in the list, use it as the next point\n",
        "    #   max_weight = 0\n",
        "    #   max_neighbor = 0\n",
        "    #   max_neighbor_distance = 0\n",
        "    #   for neighbor, distance in zip(neighbors, distances):\n",
        "    #     if neighbor not in visited:\n",
        "    #       weight = data.loc[neighbor]['weight']\n",
        "    #       if weight > max_weight:\n",
        "    #           max_weight = weight\n",
        "    #           max_neighbor = neighbor\n",
        "    #           max_neighbor_distance = distance\n",
        "\n",
        "    #   total_distance += max_neighbor_distance\n",
        "    #   total_weight += max_weight\n",
        "    #   indices.append(max_neighbor)\n",
        "    #   visited.add(max_neighbor)\n",
        "    #   if total_distance >= max_distance:\n",
        "    #     break\n",
        "\n",
        "    return data.loc[indices], total_distance, total_weight\n",
        "\n",
        "# Pick some point as starting location\n",
        "test_point_index = data_weighted.index[100]\n",
        "\n",
        "# calculate_route <weighed data> <your test point> <max points in route> <max km in route>\n",
        "route, total_distance, total_weight = calculate_route(data_weighted, test_point_index, 100, 2)\n",
        "print(total_distance, total_weight)\n"
      ],
      "metadata": {
        "colab": {
          "base_uri": "https://localhost:8080/"
        },
        "id": "Lz9BcyLBJi92",
        "outputId": "e9a47d6f-f800-4130-ec9a-d7882ce99564"
      },
      "execution_count": null,
      "outputs": [
        {
          "output_type": "stream",
          "name": "stdout",
          "text": [
            "0.7358955184500425 399\n"
          ]
        }
      ]
    },
    {
      "cell_type": "code",
      "source": [
        "plt.scatter(data_weighted['lon'], data_weighted['lat'], s=5)\n",
        "route_lat = route['lat'].tolist()\n",
        "route_lon = route['lon'].tolist()\n",
        "plt.plot(route_lon, route_lat, marker='o', color='r', linestyle='-', markersize=3)\n",
        "plt.xlabel('lon')\n",
        "plt.ylabel('lat')\n",
        "plt.grid(True)\n",
        "plt.show()"
      ],
      "metadata": {
        "colab": {
          "base_uri": "https://localhost:8080/",
          "height": 449
        },
        "id": "5DOYxbRqZ2Ru",
        "outputId": "9fd28b49-3fb7-44b9-d235-491bab891737"
      },
      "execution_count": null,
      "outputs": [
        {
          "output_type": "display_data",
          "data": {
            "text/plain": [
              "<Figure size 640x480 with 1 Axes>"
            ],
            "image/png": "[encoded data removed]"
          },
          "metadata": {}
        }
      ]
    },
    {
      "cell_type": "code",
      "source": [
        "def stitch_route(route):\n",
        "    stitched_route = pd.DataFrame(columns=['lon', 'lat'])\n",
        "    for i in range(len(route) - 1):\n",
        "        point1 = (route.iloc[i]['lon'], route.iloc[i]['lat'])\n",
        "        point2 = (route.iloc[i+1]['lon'], route.iloc[i+1]['lat'])\n",
        "        route_raw = osrm_route_query([point1, point2])\n",
        "        route_coords = route_raw['routes'][0]['geometry']['coordinates']\n",
        "        route_df = pd.DataFrame(route_coords, columns=['lon', 'lat'])\n",
        "        stitched_route = pd.concat([stitched_route, route_df], ignore_index=True)\n",
        "\n",
        "    return stitched_route\n",
        "\n",
        "stitched_route = stitch_route(route)\n",
        "output_gpx(stitched_route, \"test_image_processing.gpx\")"
      ],
      "metadata": {
        "id": "GVhvaaeIsKRp"
      },
      "execution_count": null,
      "outputs": []
    },
    {
      "cell_type": "code",
      "source": [
        "X = data_weighted[['lat', 'lon']].values\n",
        "num_clusters = 30\n",
        "kmeans = KMeans(n_clusters=num_clusters, random_state=42).fit(X)\n",
        "cluster_counts = pd.Series(kmeans.labels_).value_counts()\n",
        "\n",
        "plt.figure(figsize=(10, 6))\n",
        "plt.scatter(data['lon'], data['lat'], c=data['cluster'], s=5)\n",
        "plt.show()"
      ],
      "metadata": {
        "colab": {
          "base_uri": "https://localhost:8080/",
          "height": 577
        },
        "id": "mhmCkPUmamJl",
        "outputId": "50e84343-be28-42e2-968b-888209e11b4e"
      },
      "execution_count": null,
      "outputs": [
        {
          "output_type": "stream",
          "name": "stderr",
          "text": [
            "/usr/local/lib/python3.10/dist-packages/sklearn/cluster/_kmeans.py:870: FutureWarning: The default value of `n_init` will change from 10 to 'auto' in 1.4. Set the value of `n_init` explicitly to suppress the warning\n",
            "  warnings.warn(\n"
          ]
        },
        {
          "output_type": "display_data",
          "data": {
            "text/plain": [
              "<Figure size 1000x600 with 1 Axes>"
            ],
            "image/png": "[encoded data removed]"
          },
          "metadata": {}
        }
      ]
    }
  ]
}